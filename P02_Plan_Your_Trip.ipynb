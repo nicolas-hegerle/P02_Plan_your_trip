{
 "cells": [
  {
   "cell_type": "markdown",
   "metadata": {},
   "source": [
    "# Project 02: Plan your trip to the 35 top cities in France\n",
    "## Bloc n°1 - Jedha - dsmft - Paris14\n",
    "### Nicolas Hegerle"
   ]
  },
  {
   "cell_type": "markdown",
   "metadata": {},
   "source": [
    "## Library imports"
   ]
  },
  {
   "cell_type": "markdown",
   "metadata": {},
   "source": [
    "### <ins>Import the necessary libraries\n",
    "* functions are defined in independant python scripts"
   ]
  },
  {
   "cell_type": "code",
   "execution_count": 3,
   "metadata": {},
   "outputs": [],
   "source": [
    "import pandas as pd\n",
    "\n",
    "import plotly.io as pio\n",
    "import plotly.express as px\n",
    "pio.renderers.default = \"vscode\"\n",
    "\n",
    "pd.set_option('display.max_columns', None)\n",
    "\n",
    "from compute_winner import compute_winners"
   ]
  },
  {
   "cell_type": "markdown",
   "metadata": {},
   "source": [
    "## Upload hotel info"
   ]
  },
  {
   "cell_type": "code",
   "execution_count": 2,
   "metadata": {},
   "outputs": [],
   "source": [
    "# load hotel information for the top cities\n",
    "df_all_hotels = pd.read_json(\"data_files/city_hotels.json\", encoding='utf-8')\n"
   ]
  },
  {
   "cell_type": "markdown",
   "metadata": {},
   "source": [
    "## Calculate the top cities to travel to based on the weather preferences"
   ]
  },
  {
   "cell_type": "code",
   "execution_count": 3,
   "metadata": {},
   "outputs": [
    {
     "name": "stdout",
     "output_type": "stream",
     "text": [
      "\n",
      "Based on your preferences the top 5 cities to travel to over the next 7 days seem to be:\n",
      "               Collioure\n",
      "                 Bayonne\n",
      "                  Cassis\n",
      "Saintes Maries de la mer\n",
      "      Bormes les Mimosas\n"
     ]
    }
   ],
   "source": [
    "# relative importance attributed to the different weather features\n",
    "rel_importance = {\n",
    "        'humidity': 1,\n",
    "        'wind_sp': 1,\n",
    "        'cloudiness': 1,\n",
    "        'uv_index': 1,\n",
    "        'day_temp': 1,\n",
    "        'day_temp_feels': 1,\n",
    "        'rain': -1\n",
    "                }\n",
    "# nb top cities we want to return\n",
    "nb_cities = 5\n",
    "\n",
    "# return the dataframe of the top cities and all cities\n",
    "df_all_city_scores, df_top_city_scores = compute_winners(rel_importance, nb_cities)\n",
    "\n",
    "# get hotels only for top cities\n",
    "mask = pd.Series([True if (city in df_top_city_scores['city_name'].tolist()) else False for city in df_all_hotels['location']])\n",
    "df_top_city_hotels = df_all_hotels.loc[mask]\n",
    "df_top_city_hotels.to_csv(\"data_files/top_city_hotels.csv\", index=False)\n",
    "\n",
    "# generate the dataframe containing all the data\n",
    "# for each day forcasted will be associated each hotel for each city\n",
    "df_holiday_data = df_all_city_scores.merge(df_all_hotels, left_on = 'city_name', right_on = 'location', suffixes = ('_c', '_h'))\n",
    "df_holiday_data.drop('location', axis = 1, inplace = True)\n",
    "df_holiday_data.to_csv(\"data_files/all_data.csv\", index = False)"
   ]
  },
  {
   "cell_type": "markdown",
   "metadata": {},
   "source": [
    "## Plot the top cities on a map"
   ]
  },
  {
   "cell_type": "code",
   "execution_count": 4,
   "metadata": {},
   "outputs": [
    {
     "data": {
      "application/vnd.plotly.v1+json": {
       "config": {
        "plotlyServerURL": "https://plot.ly"
       },
       "data": [
        {
         "customdata": [
          [
           "Collioure",
           129118,
           42.52505,
           3.0831554,
           61.42857142857143,
           11.717142857142857,
           60.57142857142857,
           0.33714285714285713,
           1.5414285714285714,
           11.448571428571428,
           9.268571428571429,
           0.3757142857142857,
           0.6384702245620498,
           0.7844934973133625,
           0.6057142857142858,
           0.9349541418506936,
           0.893775264677881,
           0.746662446944148,
           -0.01269741194181338,
           4.591372449120607,
           32.13960714384425
          ],
          [
           "Bayonne",
           15548981,
           43.49333789999999,
           -1.475099,
           74.85714285714286,
           8.902857142857142,
           80.57142857142857,
           0.8457142857142858,
           1.4957142857142858,
           11.101428571428572,
           10.587142857142856,
           8.78,
           0.7748436532983005,
           0.62391592492009,
           0.8057142857142858,
           0.8985204755233275,
           0.8511239165603567,
           0.8708949564858334,
           -0.46509627602379605,
           4.359916936478398,
           30.519418555348786
          ],
          [
           "Cassis",
           281762295,
           43.2181778,
           5.553394005675274,
           55.857142857142854,
           11.651428571428571,
           54.285714285714285,
           0.14285714285714285,
           1.52,
           10.161428571428571,
           8.477142857142857,
           0.10714285714285714,
           0.5829842013156682,
           0.777150763890368,
           0.5428571428571428,
           0.922442226434967,
           0.7982011793524074,
           0.7151370321557187,
           -0.0018102629711569996,
           4.336962283035115,
           30.358735981245808
          ],
          [
           "Saintes Maries de la mer",
           125804,
           43.4522771,
           4.4287172,
           58.714285714285715,
           9.93142857142857,
           63.714285714285715,
           0.16999999999999998,
           1.5185714285714285,
           10.114285714285714,
           7.788571428571428,
           0.3157142857142857,
           0.6123799666800787,
           0.666698214072249,
           0.6371428571428571,
           0.9204978954784504,
           0.7907113945824573,
           0.6254033651542438,
           -0.006343569298937778,
           4.246490123811399,
           29.72543086667979
          ],
          [
           "Bormes les Mimosas",
           282091180,
           43.1506968,
           6.3419285,
           56.57142857142857,
           7.47,
           57.714285714285715,
           0.2542857142857143,
           1.5242857142857142,
           10.847142857142856,
           9.442857142857141,
           0.2842857142857143,
           0.5919508636193967,
           0.49903918153188087,
           0.5771428571428572,
           0.9261030576820052,
           0.8577589549825155,
           0.8055934380482208,
           -0.054022252414434584,
           4.203566100592441,
           29.42496270414709
          ]
         ],
         "hovertemplate": "<b>%{hovertext}</b><br><br>uv_index=%{customdata[8]}<br>day_temp_feels=%{marker.color}<br>rain=%{customdata[11]}<br>score_total=%{customdata[20]}<extra></extra>",
         "hovertext": [
          "Collioure",
          "Bayonne",
          "Cassis",
          "Saintes Maries de la mer",
          "Bormes les Mimosas"
         ],
         "lat": [
          42.52505,
          43.49333789999999,
          43.2181778,
          43.4522771,
          43.1506968
         ],
         "legendgroup": "",
         "lon": [
          3.0831554,
          -1.475099,
          5.553394005675274,
          4.4287172,
          6.3419285
         ],
         "marker": {
          "color": [
           9.268571428571429,
           10.587142857142856,
           8.477142857142857,
           7.788571428571428,
           9.442857142857141
          ],
          "coloraxis": "coloraxis",
          "size": [
           11.448571428571428,
           11.101428571428572,
           10.161428571428571,
           10.114285714285714,
           10.847142857142856
          ],
          "sizemode": "area",
          "sizeref": 0.028621428571428572
         },
         "mode": "markers",
         "name": "",
         "showlegend": false,
         "subplot": "mapbox",
         "type": "scattermapbox"
        }
       ],
       "layout": {
        "coloraxis": {
         "colorbar": {
          "title": {
           "text": "day_temp_feels"
          }
         },
         "colorscale": [
          [
           0,
           "#0d0887"
          ],
          [
           0.1111111111111111,
           "#46039f"
          ],
          [
           0.2222222222222222,
           "#7201a8"
          ],
          [
           0.3333333333333333,
           "#9c179e"
          ],
          [
           0.4444444444444444,
           "#bd3786"
          ],
          [
           0.5555555555555556,
           "#d8576b"
          ],
          [
           0.6666666666666666,
           "#ed7953"
          ],
          [
           0.7777777777777778,
           "#fb9f3a"
          ],
          [
           0.8888888888888888,
           "#fdca26"
          ],
          [
           1,
           "#f0f921"
          ]
         ]
        },
        "height": 600,
        "legend": {
         "itemsizing": "constant",
         "tracegroupgap": 0
        },
        "mapbox": {
         "bearing": 0,
         "center": {
          "lat": 43.16790792,
          "lon": 3.586419221135055
         },
         "domain": {
          "x": [
           0,
           1
          ],
          "y": [
           0,
           1
          ]
         },
         "pitch": 0,
         "style": "carto-positron",
         "zoom": 5
        },
        "template": {
         "data": {
          "bar": [
           {
            "error_x": {
             "color": "#2a3f5f"
            },
            "error_y": {
             "color": "#2a3f5f"
            },
            "marker": {
             "line": {
              "color": "#E5ECF6",
              "width": 0.5
             },
             "pattern": {
              "fillmode": "overlay",
              "size": 10,
              "solidity": 0.2
             }
            },
            "type": "bar"
           }
          ],
          "barpolar": [
           {
            "marker": {
             "line": {
              "color": "#E5ECF6",
              "width": 0.5
             },
             "pattern": {
              "fillmode": "overlay",
              "size": 10,
              "solidity": 0.2
             }
            },
            "type": "barpolar"
           }
          ],
          "carpet": [
           {
            "aaxis": {
             "endlinecolor": "#2a3f5f",
             "gridcolor": "white",
             "linecolor": "white",
             "minorgridcolor": "white",
             "startlinecolor": "#2a3f5f"
            },
            "baxis": {
             "endlinecolor": "#2a3f5f",
             "gridcolor": "white",
             "linecolor": "white",
             "minorgridcolor": "white",
             "startlinecolor": "#2a3f5f"
            },
            "type": "carpet"
           }
          ],
          "choropleth": [
           {
            "colorbar": {
             "outlinewidth": 0,
             "ticks": ""
            },
            "type": "choropleth"
           }
          ],
          "contour": [
           {
            "colorbar": {
             "outlinewidth": 0,
             "ticks": ""
            },
            "colorscale": [
             [
              0,
              "#0d0887"
             ],
             [
              0.1111111111111111,
              "#46039f"
             ],
             [
              0.2222222222222222,
              "#7201a8"
             ],
             [
              0.3333333333333333,
              "#9c179e"
             ],
             [
              0.4444444444444444,
              "#bd3786"
             ],
             [
              0.5555555555555556,
              "#d8576b"
             ],
             [
              0.6666666666666666,
              "#ed7953"
             ],
             [
              0.7777777777777778,
              "#fb9f3a"
             ],
             [
              0.8888888888888888,
              "#fdca26"
             ],
             [
              1,
              "#f0f921"
             ]
            ],
            "type": "contour"
           }
          ],
          "contourcarpet": [
           {
            "colorbar": {
             "outlinewidth": 0,
             "ticks": ""
            },
            "type": "contourcarpet"
           }
          ],
          "heatmap": [
           {
            "colorbar": {
             "outlinewidth": 0,
             "ticks": ""
            },
            "colorscale": [
             [
              0,
              "#0d0887"
             ],
             [
              0.1111111111111111,
              "#46039f"
             ],
             [
              0.2222222222222222,
              "#7201a8"
             ],
             [
              0.3333333333333333,
              "#9c179e"
             ],
             [
              0.4444444444444444,
              "#bd3786"
             ],
             [
              0.5555555555555556,
              "#d8576b"
             ],
             [
              0.6666666666666666,
              "#ed7953"
             ],
             [
              0.7777777777777778,
              "#fb9f3a"
             ],
             [
              0.8888888888888888,
              "#fdca26"
             ],
             [
              1,
              "#f0f921"
             ]
            ],
            "type": "heatmap"
           }
          ],
          "heatmapgl": [
           {
            "colorbar": {
             "outlinewidth": 0,
             "ticks": ""
            },
            "colorscale": [
             [
              0,
              "#0d0887"
             ],
             [
              0.1111111111111111,
              "#46039f"
             ],
             [
              0.2222222222222222,
              "#7201a8"
             ],
             [
              0.3333333333333333,
              "#9c179e"
             ],
             [
              0.4444444444444444,
              "#bd3786"
             ],
             [
              0.5555555555555556,
              "#d8576b"
             ],
             [
              0.6666666666666666,
              "#ed7953"
             ],
             [
              0.7777777777777778,
              "#fb9f3a"
             ],
             [
              0.8888888888888888,
              "#fdca26"
             ],
             [
              1,
              "#f0f921"
             ]
            ],
            "type": "heatmapgl"
           }
          ],
          "histogram": [
           {
            "marker": {
             "pattern": {
              "fillmode": "overlay",
              "size": 10,
              "solidity": 0.2
             }
            },
            "type": "histogram"
           }
          ],
          "histogram2d": [
           {
            "colorbar": {
             "outlinewidth": 0,
             "ticks": ""
            },
            "colorscale": [
             [
              0,
              "#0d0887"
             ],
             [
              0.1111111111111111,
              "#46039f"
             ],
             [
              0.2222222222222222,
              "#7201a8"
             ],
             [
              0.3333333333333333,
              "#9c179e"
             ],
             [
              0.4444444444444444,
              "#bd3786"
             ],
             [
              0.5555555555555556,
              "#d8576b"
             ],
             [
              0.6666666666666666,
              "#ed7953"
             ],
             [
              0.7777777777777778,
              "#fb9f3a"
             ],
             [
              0.8888888888888888,
              "#fdca26"
             ],
             [
              1,
              "#f0f921"
             ]
            ],
            "type": "histogram2d"
           }
          ],
          "histogram2dcontour": [
           {
            "colorbar": {
             "outlinewidth": 0,
             "ticks": ""
            },
            "colorscale": [
             [
              0,
              "#0d0887"
             ],
             [
              0.1111111111111111,
              "#46039f"
             ],
             [
              0.2222222222222222,
              "#7201a8"
             ],
             [
              0.3333333333333333,
              "#9c179e"
             ],
             [
              0.4444444444444444,
              "#bd3786"
             ],
             [
              0.5555555555555556,
              "#d8576b"
             ],
             [
              0.6666666666666666,
              "#ed7953"
             ],
             [
              0.7777777777777778,
              "#fb9f3a"
             ],
             [
              0.8888888888888888,
              "#fdca26"
             ],
             [
              1,
              "#f0f921"
             ]
            ],
            "type": "histogram2dcontour"
           }
          ],
          "mesh3d": [
           {
            "colorbar": {
             "outlinewidth": 0,
             "ticks": ""
            },
            "type": "mesh3d"
           }
          ],
          "parcoords": [
           {
            "line": {
             "colorbar": {
              "outlinewidth": 0,
              "ticks": ""
             }
            },
            "type": "parcoords"
           }
          ],
          "pie": [
           {
            "automargin": true,
            "type": "pie"
           }
          ],
          "scatter": [
           {
            "marker": {
             "colorbar": {
              "outlinewidth": 0,
              "ticks": ""
             }
            },
            "type": "scatter"
           }
          ],
          "scatter3d": [
           {
            "line": {
             "colorbar": {
              "outlinewidth": 0,
              "ticks": ""
             }
            },
            "marker": {
             "colorbar": {
              "outlinewidth": 0,
              "ticks": ""
             }
            },
            "type": "scatter3d"
           }
          ],
          "scattercarpet": [
           {
            "marker": {
             "colorbar": {
              "outlinewidth": 0,
              "ticks": ""
             }
            },
            "type": "scattercarpet"
           }
          ],
          "scattergeo": [
           {
            "marker": {
             "colorbar": {
              "outlinewidth": 0,
              "ticks": ""
             }
            },
            "type": "scattergeo"
           }
          ],
          "scattergl": [
           {
            "marker": {
             "colorbar": {
              "outlinewidth": 0,
              "ticks": ""
             }
            },
            "type": "scattergl"
           }
          ],
          "scattermapbox": [
           {
            "marker": {
             "colorbar": {
              "outlinewidth": 0,
              "ticks": ""
             }
            },
            "type": "scattermapbox"
           }
          ],
          "scatterpolar": [
           {
            "marker": {
             "colorbar": {
              "outlinewidth": 0,
              "ticks": ""
             }
            },
            "type": "scatterpolar"
           }
          ],
          "scatterpolargl": [
           {
            "marker": {
             "colorbar": {
              "outlinewidth": 0,
              "ticks": ""
             }
            },
            "type": "scatterpolargl"
           }
          ],
          "scatterternary": [
           {
            "marker": {
             "colorbar": {
              "outlinewidth": 0,
              "ticks": ""
             }
            },
            "type": "scatterternary"
           }
          ],
          "surface": [
           {
            "colorbar": {
             "outlinewidth": 0,
             "ticks": ""
            },
            "colorscale": [
             [
              0,
              "#0d0887"
             ],
             [
              0.1111111111111111,
              "#46039f"
             ],
             [
              0.2222222222222222,
              "#7201a8"
             ],
             [
              0.3333333333333333,
              "#9c179e"
             ],
             [
              0.4444444444444444,
              "#bd3786"
             ],
             [
              0.5555555555555556,
              "#d8576b"
             ],
             [
              0.6666666666666666,
              "#ed7953"
             ],
             [
              0.7777777777777778,
              "#fb9f3a"
             ],
             [
              0.8888888888888888,
              "#fdca26"
             ],
             [
              1,
              "#f0f921"
             ]
            ],
            "type": "surface"
           }
          ],
          "table": [
           {
            "cells": {
             "fill": {
              "color": "#EBF0F8"
             },
             "line": {
              "color": "white"
             }
            },
            "header": {
             "fill": {
              "color": "#C8D4E3"
             },
             "line": {
              "color": "white"
             }
            },
            "type": "table"
           }
          ]
         },
         "layout": {
          "annotationdefaults": {
           "arrowcolor": "#2a3f5f",
           "arrowhead": 0,
           "arrowwidth": 1
          },
          "autotypenumbers": "strict",
          "coloraxis": {
           "colorbar": {
            "outlinewidth": 0,
            "ticks": ""
           }
          },
          "colorscale": {
           "diverging": [
            [
             0,
             "#8e0152"
            ],
            [
             0.1,
             "#c51b7d"
            ],
            [
             0.2,
             "#de77ae"
            ],
            [
             0.3,
             "#f1b6da"
            ],
            [
             0.4,
             "#fde0ef"
            ],
            [
             0.5,
             "#f7f7f7"
            ],
            [
             0.6,
             "#e6f5d0"
            ],
            [
             0.7,
             "#b8e186"
            ],
            [
             0.8,
             "#7fbc41"
            ],
            [
             0.9,
             "#4d9221"
            ],
            [
             1,
             "#276419"
            ]
           ],
           "sequential": [
            [
             0,
             "#0d0887"
            ],
            [
             0.1111111111111111,
             "#46039f"
            ],
            [
             0.2222222222222222,
             "#7201a8"
            ],
            [
             0.3333333333333333,
             "#9c179e"
            ],
            [
             0.4444444444444444,
             "#bd3786"
            ],
            [
             0.5555555555555556,
             "#d8576b"
            ],
            [
             0.6666666666666666,
             "#ed7953"
            ],
            [
             0.7777777777777778,
             "#fb9f3a"
            ],
            [
             0.8888888888888888,
             "#fdca26"
            ],
            [
             1,
             "#f0f921"
            ]
           ],
           "sequentialminus": [
            [
             0,
             "#0d0887"
            ],
            [
             0.1111111111111111,
             "#46039f"
            ],
            [
             0.2222222222222222,
             "#7201a8"
            ],
            [
             0.3333333333333333,
             "#9c179e"
            ],
            [
             0.4444444444444444,
             "#bd3786"
            ],
            [
             0.5555555555555556,
             "#d8576b"
            ],
            [
             0.6666666666666666,
             "#ed7953"
            ],
            [
             0.7777777777777778,
             "#fb9f3a"
            ],
            [
             0.8888888888888888,
             "#fdca26"
            ],
            [
             1,
             "#f0f921"
            ]
           ]
          },
          "colorway": [
           "#636efa",
           "#EF553B",
           "#00cc96",
           "#ab63fa",
           "#FFA15A",
           "#19d3f3",
           "#FF6692",
           "#B6E880",
           "#FF97FF",
           "#FECB52"
          ],
          "font": {
           "color": "#2a3f5f"
          },
          "geo": {
           "bgcolor": "white",
           "lakecolor": "white",
           "landcolor": "#E5ECF6",
           "showlakes": true,
           "showland": true,
           "subunitcolor": "white"
          },
          "hoverlabel": {
           "align": "left"
          },
          "hovermode": "closest",
          "mapbox": {
           "style": "light"
          },
          "paper_bgcolor": "white",
          "plot_bgcolor": "#E5ECF6",
          "polar": {
           "angularaxis": {
            "gridcolor": "white",
            "linecolor": "white",
            "ticks": ""
           },
           "bgcolor": "#E5ECF6",
           "radialaxis": {
            "gridcolor": "white",
            "linecolor": "white",
            "ticks": ""
           }
          },
          "scene": {
           "xaxis": {
            "backgroundcolor": "#E5ECF6",
            "gridcolor": "white",
            "gridwidth": 2,
            "linecolor": "white",
            "showbackground": true,
            "ticks": "",
            "zerolinecolor": "white"
           },
           "yaxis": {
            "backgroundcolor": "#E5ECF6",
            "gridcolor": "white",
            "gridwidth": 2,
            "linecolor": "white",
            "showbackground": true,
            "ticks": "",
            "zerolinecolor": "white"
           },
           "zaxis": {
            "backgroundcolor": "#E5ECF6",
            "gridcolor": "white",
            "gridwidth": 2,
            "linecolor": "white",
            "showbackground": true,
            "ticks": "",
            "zerolinecolor": "white"
           }
          },
          "shapedefaults": {
           "line": {
            "color": "#2a3f5f"
           }
          },
          "ternary": {
           "aaxis": {
            "gridcolor": "white",
            "linecolor": "white",
            "ticks": ""
           },
           "baxis": {
            "gridcolor": "white",
            "linecolor": "white",
            "ticks": ""
           },
           "bgcolor": "#E5ECF6",
           "caxis": {
            "gridcolor": "white",
            "linecolor": "white",
            "ticks": ""
           }
          },
          "title": {
           "x": 0.05
          },
          "xaxis": {
           "automargin": true,
           "gridcolor": "white",
           "linecolor": "white",
           "ticks": "",
           "title": {
            "standoff": 15
           },
           "zerolinecolor": "white",
           "zerolinewidth": 2
          },
          "yaxis": {
           "automargin": true,
           "gridcolor": "white",
           "linecolor": "white",
           "ticks": "",
           "title": {
            "standoff": 15
           },
           "zerolinecolor": "white",
           "zerolinewidth": 2
          }
         }
        },
        "title": {
         "text": "Top 5 cities based on your criteria"
        },
        "width": 700
       }
      },
      "image/png": "[encoded data removed]"
     },
     "metadata": {},
     "output_type": "display_data"
    }
   ],
   "source": [
    "hover_show_city = ['score_total', 'day_temp_feels', 'rain', 'uv_index']\n",
    "hover_data = {col:True if col in hover_show_city else False for col in df_top_city_scores.columns}\n",
    "\n",
    "center_lat = df_top_city_scores['lat'].mean()\n",
    "center_lon = df_top_city_scores['lon'].mean()\n",
    "center = {'lat' : center_lat, 'lon' : center_lon}\n",
    "\n",
    "fig = px.scatter_mapbox(\n",
    "        df_top_city_scores, \n",
    "        lat = 'lat', \n",
    "        lon = 'lon', \n",
    "        color = 'day_temp_feels', \n",
    "        size = 'day_temp', \n",
    "        zoom = 5, \n",
    "        mapbox_style='carto-positron', \n",
    "        width=700, height=600, \n",
    "        hover_name = 'city_name', hover_data = hover_data, \n",
    "        title = f'Top {nb_cities} cities based on your criteria', \n",
    "        center = center\n",
    ")\n",
    "\n",
    "#fig.update_layout(showlegend = False)\n",
    "fig.show()"
   ]
  },
  {
   "cell_type": "markdown",
   "metadata": {},
   "source": [
    "## Plot the top hotels for the top cities on a map"
   ]
  },
  {
   "cell_type": "code",
   "execution_count": 5,
   "metadata": {},
   "outputs": [
    {
     "data": {
      "application/vnd.plotly.v1+json": {
       "config": {
        "plotlyServerURL": "https://plot.ly"
       },
       "data": [
        {
         "customdata": [
          [
           "Bormes les Mimosas",
           "2022-01-03",
           "Hôtel Les Mimosas",
           43.14918793,
           6.30026087,
           7.6,
           "Bien  ",
           448,
           "https://www.booking.com/hotel/fr/restaurant-les-mimosas.fr.html"
          ],
          [
           "Cassis",
           "2022-01-03",
           "Hôtel Les Volets Rouges - Cassis",
           43.2348293,
           5.51191052,
           8.4,
           "Très bien ",
           729,
           "https://www.booking.com/hotel/fr/du-joli-bois-cassis.fr.html"
          ],
          [
           "Cassis",
           "2022-01-03",
           "Le Clos Des Arômes",
           43.21627942,
           5.53816553,
           8.4,
           "Très bien ",
           644,
           "https://www.booking.com/hotel/fr/le-clos-des-aromes.fr.html"
          ],
          [
           "Cassis",
           "2022-01-03",
           "Hotel Des Calanques",
           43.213611,
           5.539561,
           5.9,
           "Passable ",
           232,
           "https://www.booking.com/hotel/fr/des-calanques.fr.html"
          ],
          [
           "Cassis",
           "2022-01-03",
           "Le Cassiden",
           43.2142692,
           5.5385001,
           7.8,
           "Bien  ",
           473,
           "https://www.booking.com/hotel/fr/le-provencal-cassis.fr.html"
          ],
          [
           "Cassis",
           "2022-01-03",
           "Hotel Le Golfe",
           43.21443438,
           5.5352948600000005,
           7.6,
           "Bien  ",
           1,
           "https://www.booking.com/hotel/fr/le-golfe-cassis.fr.html"
          ],
          [
           "Cassis",
           "2022-01-03",
           "The Originals Boutique, Hôtel Cassitel, Cassis",
           43.21370621,
           5.53895809,
           7.9,
           "Bien  ",
           1,
           "https://www.booking.com/hotel/fr/interhotel-cassitel.fr.html"
          ],
          [
           "Cassis",
           "2022-01-03",
           "Hôtel Et Appartement \"Le France Maguy\"",
           43.2133045,
           5.54191589,
           8.5,
           "Très bien ",
           167,
           "https://www.booking.com/hotel/fr/ha-tel-de-france-maguy.fr.html"
          ],
          [
           "Cassis",
           "2022-01-03",
           "Les Jardins De Cassis",
           43.22184049,
           5.5433848999999995,
           8,
           "Très bien ",
           1,
           "https://www.booking.com/hotel/fr/les-jardins-de-cassis.fr.html"
          ],
          [
           "Cassis",
           "2022-01-03",
           "Hotel De La Plage - Mahogany",
           43.21334946,
           5.53126283,
           7.6,
           "Bien  ",
           749,
           "https://www.booking.com/hotel/fr/de-la-plage-cassis.fr.html"
          ],
          [
           "Cassis",
           "2022-01-03",
           "Royal Cottage",
           43.21622493,
           5.54290026,
           8.2,
           "Très bien ",
           723,
           "https://www.booking.com/hotel/fr/royal-cottage.fr.html"
          ],
          [
           "Cassis",
           "2022-01-03",
           "Best Western Plus Hôtel La Rade",
           43.21522997,
           5.53369693,
           8,
           "Très bien ",
           953,
           "https://www.booking.com/hotel/fr/la-rade-cassis.fr.html"
          ],
          [
           "Cassis",
           "2022-01-03",
           "Hôtel Les Roches Blanches Cassis",
           43.211337,
           5.529502,
           8.8,
           "Superbe ",
           122,
           "https://www.booking.com/hotel/fr/des-roches-blanches.fr.html"
          ],
          [
           "Bormes les Mimosas",
           "2022-01-03",
           "Hôtel Paradis",
           43.144686,
           6.335125,
           7.9,
           "Bien  ",
           681,
           "https://www.booking.com/hotel/fr/paradis.fr.html"
          ],
          [
           "Bormes les Mimosas",
           "2022-01-03",
           "Hotel Restaurant Bellevue",
           43.15187759,
           6.34313598,
           7.7,
           "Bien  ",
           370,
           "https://www.booking.com/hotel/fr/restaurant-bellevue.fr.html"
          ],
          [
           "Bormes les Mimosas",
           "2022-01-03",
           "Hostellerie Du Cigalou - Les Collectionneurs",
           43.1519579,
           6.3432835,
           8,
           "Très bien ",
           591,
           "https://www.booking.com/hotel/fr/hostellerie-du-cigalou.fr.html"
          ],
          [
           "Bormes les Mimosas",
           "2022-01-03",
           "Hotel La Voile",
           43.12549,
           6.3573,
           7.9,
           "Bien  ",
           898,
           "https://www.booking.com/hotel/fr/hotel-la-voile-fr.fr.html"
          ],
          [
           "Bormes les Mimosas",
           "2022-01-03",
           "Hotel Les Jardins De Bormes",
           43.14893354,
           6.30326629,
           8.6,
           "Superbe ",
           297,
           "https://www.booking.com/hotel/fr/new-life.fr.html"
          ],
          [
           "Bormes les Mimosas",
           "2022-01-03",
           "Eden Rose Grand Hotel Bw Premier Collection",
           43.152872,
           6.342654,
           8.6,
           "Superbe ",
           22,
           "https://www.booking.com/hotel/fr/eden-rose-grand-bw-premier-collection.fr.html"
          ],
          [
           "Saintes Maries de la mer",
           "2022-01-03",
           "Le Fangassier",
           43.45449604,
           4.43070754,
           8.8,
           "Superbe ",
           693,
           "https://www.booking.com/hotel/fr/le-fangassier.fr.html"
          ],
          [
           "Collioure",
           "2022-01-03",
           "Chambres Rue De La République",
           42.5255637,
           3.08279672,
           7.6,
           "Bien  ",
           409,
           "https://www.booking.com/hotel/fr/chambres-rue-de-la-republique.fr.html"
          ],
          [
           "Collioure",
           "2022-01-03",
           "Hôtel La Bona Casa",
           42.52547153,
           3.0826987,
           8.4,
           "Très bien ",
           798,
           "https://www.booking.com/hotel/fr/la-bona-casa.fr.html"
          ],
          [
           "Collioure",
           "2022-01-03",
           "Hotel Le Bon Port",
           42.52411449,
           3.08936566,
           8.2,
           "Très bien ",
           444,
           "https://www.booking.com/hotel/fr/le-bon-port.fr.html"
          ],
          [
           "Collioure",
           "2022-01-03",
           "Hôtel Des Templiers",
           42.52666546,
           3.08394089,
           8,
           "Très bien ",
           762,
           "https://www.booking.com/hotel/fr/ha-tel-des-templiers.fr.html"
          ],
          [
           "Collioure",
           "2022-01-03",
           "Hôtel Triton",
           42.52371617,
           3.08713473,
           7.5,
           "Bien  ",
           942,
           "https://www.booking.com/hotel/fr/triton.fr.html"
          ],
          [
           "Collioure",
           "2022-01-03",
           "Residence Pierre & Vacances Les Balcons De Collioure",
           42.52510633,
           3.0904362,
           8,
           "Très bien ",
           622,
           "https://www.booking.com/hotel/fr/maevabalconsdecollioure.fr.html"
          ],
          [
           "Collioure",
           "2022-01-03",
           "Hotel Méditerranée",
           42.52708254,
           3.08026291,
           7.9,
           "Bien  ",
           760,
           "https://www.booking.com/hotel/fr/mediterranee-collioure.fr.html"
          ],
          [
           "Collioure",
           "2022-01-03",
           "Hôtel Princes De Catalogne",
           42.52591431,
           3.0826816,
           8.1,
           "Très bien ",
           1,
           "https://www.booking.com/hotel/fr/princes-de-catalogne.fr.html"
          ],
          [
           "Collioure",
           "2022-01-03",
           "Le Mas Des Citronniers",
           42.52538159,
           3.08256391,
           8,
           "Très bien ",
           843,
           "https://www.booking.com/hotel/fr/lesmasdescitronniers.fr.html"
          ],
          [
           "Collioure",
           "2022-01-03",
           "Le Madeloc Hôtel & Spa",
           42.52876467,
           3.07865426,
           8.8,
           "Superbe ",
           709,
           "https://www.booking.com/hotel/fr/madeloc.fr.html"
          ],
          [
           "Collioure",
           "2022-01-03",
           "La Frégate",
           42.52638625,
           3.08325659,
           8.1,
           "Très bien ",
           1,
           "https://www.booking.com/hotel/fr/la-fra-c-gate-collioure.fr.html"
          ],
          [
           "Collioure",
           "2022-01-03",
           "Le Relais Des Trois Mas",
           42.52417281,
           3.08931068,
           9,
           "Fabuleux  ",
           206,
           "https://www.booking.com/hotel/fr/le-relais-des-trois-mas.fr.html"
          ],
          [
           "Collioure",
           "2022-01-03",
           "Hôtel La Casa Pairal",
           42.52616733,
           3.08235571,
           8.7,
           "Superbe ",
           682,
           "https://www.booking.com/hotel/fr/hotelcasapairal.fr.html"
          ],
          [
           "Collioure",
           "2022-01-03",
           "Les Roches Brunes",
           42.52534777,
           3.09032446,
           9,
           "Fabuleux  ",
           229,
           "https://www.booking.com/hotel/fr/les-roches-brunes-collioure.fr.html"
          ],
          [
           "Saintes Maries de la mer",
           "2022-01-03",
           "Le Maset",
           43.45656073,
           4.42670293,
           8.9,
           "Superbe ",
           250,
           "https://www.booking.com/hotel/fr/mazet-de-la-grenouilla-re.fr.html"
          ],
          [
           "Saintes Maries de la mer",
           "2022-01-03",
           "Hotel Mas Des Lys",
           43.47418844,
           4.41020608,
           8.7,
           "Superbe ",
           326,
           "https://www.booking.com/hotel/fr/mas-des-lys-les-saintes-maries-de-la-mer.fr.html"
          ],
          [
           "Saintes Maries de la mer",
           "2022-01-03",
           "Hotel Le Bleu Marine",
           43.45463818,
           4.433202,
           8.4,
           "Très bien ",
           506,
           "https://www.booking.com/hotel/fr/le-bleu-marine.fr.html"
          ],
          [
           "Saintes Maries de la mer",
           "2022-01-03",
           "Hôtel Les Arcades",
           43.4526278,
           4.43076655,
           8.7,
           "Superbe ",
           472,
           "https://www.booking.com/hotel/fr/ha-tel-les-arcades.fr.html"
          ],
          [
           "Saintes Maries de la mer",
           "2022-01-03",
           "Hotel Les Palmiers En Camargue",
           43.45106618,
           4.42509368,
           8.1,
           "Très bien ",
           1,
           "https://www.booking.com/hotel/fr/les-palmiers-en-camargue.fr.html"
          ],
          [
           "Saintes Maries de la mer",
           "2022-01-03",
           "Le Castelet",
           43.45134949,
           4.42507625,
           7.4,
           "Bien  ",
           1,
           "https://www.booking.com/hotel/fr/le-castelet-les-saintes-maries-de-la-mer.fr.html"
          ],
          [
           "Saintes Maries de la mer",
           "2022-01-03",
           "Hôtel La Palunette",
           43.46230329,
           4.42051917,
           8.5,
           "Très bien ",
           274,
           "https://www.booking.com/hotel/fr/la-palunette.fr.html"
          ],
          [
           "Saintes Maries de la mer",
           "2022-01-03",
           "L'Auberge Camarguaise",
           43.47184235,
           4.41156596,
           7.8,
           "Bien  ",
           409,
           "https://www.booking.com/hotel/fr/lauberge-camarguaise.fr.html"
          ],
          [
           "Saintes Maries de la mer",
           "2022-01-03",
           "Cacharel",
           43.49245835,
           4.44407601,
           8.2,
           "Très bien ",
           99,
           "https://www.booking.com/hotel/fr/cacharel.fr.html"
          ],
          [
           "Saintes Maries de la mer",
           "2022-01-03",
           "Les Rizières",
           43.47103999,
           4.41058695,
           8.2,
           "Très bien ",
           512,
           "https://www.booking.com/hotel/fr/les-rizieres.fr.html"
          ],
          [
           "Saintes Maries de la mer",
           "2022-01-03",
           "Hotel Mas Des Barres",
           43.5192832,
           4.39884961,
           8.3,
           "Très bien ",
           283,
           "https://www.booking.com/hotel/fr/le-petit-mas-des-barres.fr.html"
          ],
          [
           "Saintes Maries de la mer",
           "2022-01-03",
           "Clamador",
           43.46821258,
           4.3956323,
           8.1,
           "Très bien ",
           870,
           "https://www.booking.com/hotel/fr/clamador.fr.html"
          ],
          [
           "Saintes Maries de la mer",
           "2022-01-03",
           "Hôtel Le Neptune En Camargue",
           43.452127,
           4.425347,
           7.8,
           "Bien  ",
           284,
           "https://www.booking.com/hotel/fr/le-neptune-en-camargue.fr.html"
          ],
          [
           "Saintes Maries de la mer",
           "2022-01-03",
           "Hôtel Mas De La Grenouillère",
           43.47145266,
           4.40182686,
           8.2,
           "Très bien ",
           227,
           "https://www.booking.com/hotel/fr/ha-tel-mas-de-la-grenouilla-re.fr.html"
          ],
          [
           "Saintes Maries de la mer",
           "2022-01-03",
           "Le Dauphin Bleu",
           43.452330860000004,
           4.43364993,
           8.6,
           "Superbe ",
           945,
           "https://www.booking.com/hotel/fr/le-dauphin-bleu.fr.html"
          ],
          [
           "Saintes Maries de la mer",
           "2022-01-03",
           "La Tramontane",
           43.47260109,
           4.41012025,
           9.1,
           "Fabuleux  ",
           1,
           "https://www.booking.com/hotel/fr/la-tramontane.fr.html"
          ],
          [
           "Saintes Maries de la mer",
           "2022-01-03",
           "Hôtel Casa Marina",
           43.451133,
           4.430953,
           8.9,
           "Superbe ",
           453,
           "https://www.booking.com/hotel/fr/casa-marina-saintes-maries-de-la-mer.fr.html"
          ],
          [
           "Saintes Maries de la mer",
           "2022-01-03",
           "Thalacap Camargue",
           43.45349134,
           4.43545103,
           7.7,
           "Bien  ",
           890,
           "https://www.booking.com/hotel/fr/thalacap-camargue.fr.html"
          ],
          [
           "Saintes Maries de la mer",
           "2022-01-03",
           "Auberge Cavaliere Du Pont Des Bannes",
           43.46542981,
           4.41963136,
           7.6,
           "Bien  ",
           481,
           "https://www.booking.com/hotel/fr/auberge-cavaliere-saintes-maries-de-la-mer.fr.html"
          ],
          [
           "Saintes Maries de la mer",
           "2022-01-03",
           "Mas De La Fouque - Hôtel & Spa",
           43.4670806,
           4.40451175,
           7.8,
           "Bien  ",
           282,
           "https://www.booking.com/hotel/fr/lodge-de-la-fouque.fr.html"
          ],
          [
           "Saintes Maries de la mer",
           "2022-01-03",
           "Le Mas De Cocagne",
           43.45831608,
           4.42523181,
           8.7,
           "Superbe ",
           374,
           "https://www.booking.com/hotel/fr/le-mas-de-cocagne-les-saintes-maries-de-la-mer.fr.html"
          ],
          [
           "Saintes Maries de la mer",
           "2022-01-03",
           "Hôtel Restaurant Les Arnelles",
           43.46095608,
           4.42231894,
           8.3,
           "Très bien ",
           259,
           "https://www.booking.com/hotel/fr/les-arnelles.fr.html"
          ],
          [
           "Saintes Maries de la mer",
           "2022-01-03",
           "Vila De La Mar & Spa",
           43.45334531,
           4.43066597,
           8.2,
           "Très bien ",
           447,
           "https://www.booking.com/hotel/fr/bastide-blanche-saintes-maries-de-la-mer.fr.html"
          ],
          [
           "Saintes Maries de la mer",
           "2022-01-03",
           "Hôtel L' Estelle En Camargue",
           43.4703003,
           4.39530373,
           8.9,
           "Superbe ",
           130,
           "https://www.booking.com/hotel/fr/l-estelle-en-camargue-les-saintes.fr.html"
          ],
          [
           "Bayonne",
           "2022-01-03",
           "Hotelf1 Bayonne",
           43.48962331,
           -1.45107529,
           5.7,
           "Passable ",
           707,
           "https://www.booking.com/hotel/fr/hotelf1-bayonne.fr.html"
          ],
          [
           "Bayonne",
           "2022-01-03",
           "Hôtel Des Arceaux",
           43.4922497,
           -1.4757726,
           7.4,
           "Bien  ",
           1,
           "https://www.booking.com/hotel/fr/des-arceaux.fr.html"
          ],
          [
           "Bayonne",
           "2022-01-03",
           "Premiere Classe Bayonne",
           43.49048959,
           -1.45203531,
           6,
           "Agréable ",
           2,
           "https://www.booking.com/hotel/fr/premiere-classe-bayonne.fr.html"
          ],
          [
           "Bayonne",
           "2022-01-03",
           "Hotel Le Port Neuf",
           43.49166881,
           -1.47638239,
           8.3,
           "Très bien ",
           716,
           "https://www.booking.com/hotel/fr/le-port-neuf.fr.html"
          ],
          [
           "Bayonne",
           "2022-01-03",
           "Hotel Restaurant Les Genets",
           43.46494896,
           -1.49584383,
           6.9,
           "Agréable ",
           1,
           "https://www.booking.com/hotel/fr/restaurant-les-genets.fr.html"
          ],
          [
           "Bayonne",
           "2022-01-03",
           "B&B Hôtel Bayonne",
           43.4645147,
           -1.4959653,
           7.3,
           "Bien  ",
           1,
           "https://www.booking.com/hotel/fr/b-amp-b-bayonne.fr.html"
          ],
          [
           "Bayonne",
           "2022-01-03",
           "Ibis Budget Bayonne",
           43.48908262,
           -1.45717809,
           7.7,
           "Bien  ",
           4,
           "https://www.booking.com/hotel/fr/ibis-budget-bayonne.fr.html"
          ],
          [
           "Bayonne",
           "2022-01-03",
           "Hotel Cote Basque",
           43.49618306,
           -1.46960109,
           8,
           "Très bien ",
           3,
           "https://www.booking.com/hotel/fr/cote-basque.fr.html"
          ],
          [
           "Bayonne",
           "2022-01-03",
           "Temporesidence Chateauneuf",
           43.48991068,
           -1.47314027,
           7.5,
           "Bien  ",
           1,
           "https://www.booking.com/hotel/fr/temporesidence-chateauneuf.fr.html"
          ],
          [
           "Bayonne",
           "2022-01-03",
           "Ibis Styles Bayonne",
           43.49540574,
           -1.4708241800000001,
           8.2,
           "Très bien ",
           873,
           "https://www.booking.com/hotel/fr/loustau.fr.html"
          ],
          [
           "Bayonne",
           "2022-01-03",
           "Ibis Bayonne Centre",
           43.492713,
           -1.465659,
           7.9,
           "Bien  ",
           1,
           "https://www.booking.com/hotel/fr/ibis-bayonne.fr.html"
          ],
          [
           "Bayonne",
           "2022-01-03",
           "Hotel Loreak",
           43.49349109,
           -1.45263344,
           8,
           "Très bien ",
           1,
           "https://www.booking.com/hotel/fr/comfort-bayonne-biarritz.fr.html"
          ],
          [
           "Bayonne",
           "2022-01-03",
           "Campanile Bayonne",
           43.49112493,
           -1.4548409,
           6.6,
           "Agréable ",
           1,
           "https://www.booking.com/hotel/fr/campanile-bayonne.fr.html"
          ],
          [
           "Bayonne",
           "2022-01-03",
           "Hôtel Mercure Bayonne Centre Le Grand Hotel",
           43.49231191,
           -1.47660971,
           8.3,
           "Très bien ",
           578,
           "https://www.booking.com/hotel/fr/bwlegrandhotel.fr.html"
          ],
          [
           "Bayonne",
           "2022-01-03",
           "Hôtel Le Bayonne",
           43.4850262,
           -1.47537053,
           7.9,
           "Bien  ",
           2,
           "https://www.booking.com/hotel/fr/le-bayonne-ha-tel.fr.html"
          ],
          [
           "Bayonne",
           "2022-01-03",
           "Hôtel Des Basses Pyrénées - Bayonne",
           43.48841135,
           -1.47714337,
           8.6,
           "Superbe ",
           837,
           "https://www.booking.com/hotel/fr/des-basses-pyrenees.fr.html"
          ],
          [
           "Bayonne",
           "2022-01-03",
           "Okko Hotels Bayonne Centre",
           43.4953443,
           -1.4825118,
           8.5,
           "Très bien ",
           2,
           "https://www.booking.com/hotel/fr/okko-hotels-bayonne-centre.fr.html"
          ],
          [
           "Bayonne",
           "2022-01-03",
           "Temporesidence Cathedrale",
           43.48954193,
           -1.47812448,
           8,
           "Très bien ",
           2,
           "https://www.booking.com/hotel/fr/temporesidence-cathedrale.fr.html"
          ],
          [
           "Bayonne",
           "2022-01-03",
           "Hôtel Villa Koegui Bayonne",
           43.492371,
           -1.472588,
           8.9,
           "Superbe ",
           740,
           "https://www.booking.com/hotel/fr/villa-koegui-bayonne.fr.html"
          ],
          [
           "Bayonne",
           "2022-01-03",
           "Villa La Renaissance",
           43.482321,
           -1.468164,
           9.2,
           "Fabuleux  ",
           86,
           "https://www.booking.com/hotel/fr/villa-la-renaissance-bayonne.fr.html"
          ],
          [
           "Saintes Maries de la mer",
           "2022-01-03",
           "Auberge Mas De Layalle",
           43.5192715,
           4.3980931,
           7.4,
           "Bien  ",
           71,
           "https://www.booking.com/hotel/fr/mas-de-layalle.fr.html"
          ],
          [
           "Saintes Maries de la mer",
           "2022-01-03",
           "Lodge Sainte Helene",
           43.46575556,
           4.41393435,
           9.2,
           "Fabuleux  ",
           166,
           "https://www.booking.com/hotel/fr/lodge-sainte-helene.fr.html"
          ],
          [
           "Saintes Maries de la mer",
           "2022-01-03",
           "Hôtel Restaurant Le Delta",
           43.452178,
           4.428116,
           6.4,
           "Agréable ",
           410,
           "https://www.booking.com/hotel/fr/hacienda-des-enfants-terribles.fr.html"
          ],
          [
           "Saintes Maries de la mer",
           "2022-01-03",
           "Mas Le Sauvageon",
           43.48324784,
           4.39045474,
           9.1,
           "Fabuleux  ",
           204,
           "https://www.booking.com/hotel/fr/mas-le-sauvageon.fr.html"
          ],
          [
           "Saintes Maries de la mer",
           "2022-01-03",
           "Mas Des Rièges & Spa",
           43.46150341,
           4.42932761,
           8.8,
           "Superbe ",
           95,
           "https://www.booking.com/hotel/fr/mas-des-rieges-amp-spa.fr.html"
          ],
          [
           "Saintes Maries de la mer",
           "2022-01-03",
           "Auberge De La Fadaise",
           43.48647018,
           4.40415502,
           8.5,
           "Très bien ",
           365,
           "https://www.booking.com/hotel/fr/auberge-de-la-fadaise.fr.html"
          ],
          [
           "Saintes Maries de la mer",
           "2022-01-03",
           "Abrivado",
           43.45033695,
           4.42622423,
           8.4,
           "Très bien ",
           552,
           "https://www.booking.com/hotel/fr/abrivado.fr.html"
          ],
          [
           "Saintes Maries de la mer",
           "2022-01-03",
           "Le Fangassier",
           43.45449604,
           4.43070754,
           8.8,
           "Superbe ",
           693,
           "https://www.booking.com/hotel/fr/le-fangassier.fr.html"
          ]
         ],
         "hovertemplate": "<b>%{hovertext}</b><br><br>location=%{customdata[0]}<br>hotel_score=%{marker.color}<br>score_title=%{customdata[6]}<br>score_expe=%{customdata[7]}<br>url=%{customdata[8]}<extra></extra>",
         "hovertext": [
          "Hôtel Les Mimosas",
          "Hôtel Les Volets Rouges - Cassis",
          "Le Clos Des Arômes",
          "Hotel Des Calanques",
          "Le Cassiden",
          "Hotel Le Golfe",
          "The Originals Boutique, Hôtel Cassitel, Cassis",
          "Hôtel Et Appartement \"Le France Maguy\"",
          "Les Jardins De Cassis",
          "Hotel De La Plage - Mahogany",
          "Royal Cottage",
          "Best Western Plus Hôtel La Rade",
          "Hôtel Les Roches Blanches Cassis",
          "Hôtel Paradis",
          "Hotel Restaurant Bellevue",
          "Hostellerie Du Cigalou - Les Collectionneurs",
          "Hotel La Voile",
          "Hotel Les Jardins De Bormes",
          "Eden Rose Grand Hotel Bw Premier Collection",
          "Le Fangassier",
          "Chambres Rue De La République",
          "Hôtel La Bona Casa",
          "Hotel Le Bon Port",
          "Hôtel Des Templiers",
          "Hôtel Triton",
          "Residence Pierre & Vacances Les Balcons De Collioure",
          "Hotel Méditerranée",
          "Hôtel Princes De Catalogne",
          "Le Mas Des Citronniers",
          "Le Madeloc Hôtel & Spa",
          "La Frégate",
          "Le Relais Des Trois Mas",
          "Hôtel La Casa Pairal",
          "Les Roches Brunes",
          "Le Maset",
          "Hotel Mas Des Lys",
          "Hotel Le Bleu Marine",
          "Hôtel Les Arcades",
          "Hotel Les Palmiers En Camargue",
          "Le Castelet",
          "Hôtel La Palunette",
          "L'Auberge Camarguaise",
          "Cacharel",
          "Les Rizières",
          "Hotel Mas Des Barres",
          "Clamador",
          "Hôtel Le Neptune En Camargue",
          "Hôtel Mas De La Grenouillère",
          "Le Dauphin Bleu",
          "La Tramontane",
          "Hôtel Casa Marina",
          "Thalacap Camargue",
          "Auberge Cavaliere Du Pont Des Bannes",
          "Mas De La Fouque - Hôtel & Spa",
          "Le Mas De Cocagne",
          "Hôtel Restaurant Les Arnelles",
          "Vila De La Mar & Spa",
          "Hôtel L' Estelle En Camargue",
          "Hotelf1 Bayonne",
          "Hôtel Des Arceaux",
          "Premiere Classe Bayonne",
          "Hotel Le Port Neuf",
          "Hotel Restaurant Les Genets",
          "B&B Hôtel Bayonne",
          "Ibis Budget Bayonne",
          "Hotel Cote Basque",
          "Temporesidence Chateauneuf",
          "Ibis Styles Bayonne",
          "Ibis Bayonne Centre",
          "Hotel Loreak",
          "Campanile Bayonne",
          "Hôtel Mercure Bayonne Centre Le Grand Hotel",
          "Hôtel Le Bayonne",
          "Hôtel Des Basses Pyrénées - Bayonne",
          "Okko Hotels Bayonne Centre",
          "Temporesidence Cathedrale",
          "Hôtel Villa Koegui Bayonne",
          "Villa La Renaissance",
          "Auberge Mas De Layalle",
          "Lodge Sainte Helene",
          "Hôtel Restaurant Le Delta",
          "Mas Le Sauvageon",
          "Mas Des Rièges & Spa",
          "Auberge De La Fadaise",
          "Abrivado",
          "Le Fangassier"
         ],
         "lat": [
          43.14918793,
          43.2348293,
          43.21627942,
          43.213611,
          43.2142692,
          43.21443438,
          43.21370621,
          43.2133045,
          43.22184049,
          43.21334946,
          43.21622493,
          43.21522997,
          43.211337,
          43.144686,
          43.15187759,
          43.1519579,
          43.12549,
          43.14893354,
          43.152872,
          43.45449604,
          42.5255637,
          42.52547153,
          42.52411449,
          42.52666546,
          42.52371617,
          42.52510633,
          42.52708254,
          42.52591431,
          42.52538159,
          42.52876467,
          42.52638625,
          42.52417281,
          42.52616733,
          42.52534777,
          43.45656073,
          43.47418844,
          43.45463818,
          43.4526278,
          43.45106618,
          43.45134949,
          43.46230329,
          43.47184235,
          43.49245835,
          43.47103999,
          43.5192832,
          43.46821258,
          43.452127,
          43.47145266,
          43.452330860000004,
          43.47260109,
          43.451133,
          43.45349134,
          43.46542981,
          43.4670806,
          43.45831608,
          43.46095608,
          43.45334531,
          43.4703003,
          43.48962331,
          43.4922497,
          43.49048959,
          43.49166881,
          43.46494896,
          43.4645147,
          43.48908262,
          43.49618306,
          43.48991068,
          43.49540574,
          43.492713,
          43.49349109,
          43.49112493,
          43.49231191,
          43.4850262,
          43.48841135,
          43.4953443,
          43.48954193,
          43.492371,
          43.482321,
          43.5192715,
          43.46575556,
          43.452178,
          43.48324784,
          43.46150341,
          43.48647018,
          43.45033695,
          43.45449604
         ],
         "legendgroup": "",
         "lon": [
          6.30026087,
          5.51191052,
          5.53816553,
          5.539561,
          5.5385001,
          5.5352948600000005,
          5.53895809,
          5.54191589,
          5.5433848999999995,
          5.53126283,
          5.54290026,
          5.53369693,
          5.529502,
          6.335125,
          6.34313598,
          6.3432835,
          6.3573,
          6.30326629,
          6.342654,
          4.43070754,
          3.08279672,
          3.0826987,
          3.08936566,
          3.08394089,
          3.08713473,
          3.0904362,
          3.08026291,
          3.0826816,
          3.08256391,
          3.07865426,
          3.08325659,
          3.08931068,
          3.08235571,
          3.09032446,
          4.42670293,
          4.41020608,
          4.433202,
          4.43076655,
          4.42509368,
          4.42507625,
          4.42051917,
          4.41156596,
          4.44407601,
          4.41058695,
          4.39884961,
          4.3956323,
          4.425347,
          4.40182686,
          4.43364993,
          4.41012025,
          4.430953,
          4.43545103,
          4.41963136,
          4.40451175,
          4.42523181,
          4.42231894,
          4.43066597,
          4.39530373,
          -1.45107529,
          -1.4757726,
          -1.45203531,
          -1.47638239,
          -1.49584383,
          -1.4959653,
          -1.45717809,
          -1.46960109,
          -1.47314027,
          -1.4708241800000001,
          -1.465659,
          -1.45263344,
          -1.4548409,
          -1.47660971,
          -1.47537053,
          -1.47714337,
          -1.4825118,
          -1.47812448,
          -1.472588,
          -1.468164,
          4.3980931,
          4.41393435,
          4.428116,
          4.39045474,
          4.42932761,
          4.40415502,
          4.42622423,
          4.43070754
         ],
         "marker": {
          "color": [
           7.6,
           8.4,
           8.4,
           5.9,
           7.8,
           7.6,
           7.9,
           8.5,
           8,
           7.6,
           8.2,
           8,
           8.8,
           7.9,
           7.7,
           8,
           7.9,
           8.6,
           8.6,
           8.8,
           7.6,
           8.4,
           8.2,
           8,
           7.5,
           8,
           7.9,
           8.1,
           8,
           8.8,
           8.1,
           9,
           8.7,
           9,
           8.9,
           8.7,
           8.4,
           8.7,
           8.1,
           7.4,
           8.5,
           7.8,
           8.2,
           8.2,
           8.3,
           8.1,
           7.8,
           8.2,
           8.6,
           9.1,
           8.9,
           7.7,
           7.6,
           7.8,
           8.7,
           8.3,
           8.2,
           8.9,
           5.7,
           7.4,
           6,
           8.3,
           6.9,
           7.3,
           7.7,
           8,
           7.5,
           8.2,
           7.9,
           8,
           6.6,
           8.3,
           7.9,
           8.6,
           8.5,
           8,
           8.9,
           9.2,
           7.4,
           9.2,
           6.4,
           9.1,
           8.8,
           8.5,
           8.4,
           8.8
          ],
          "coloraxis": "coloraxis"
         },
         "mode": "markers",
         "name": "",
         "showlegend": false,
         "subplot": "mapbox",
         "type": "scattermapbox"
        }
       ],
       "layout": {
        "coloraxis": {
         "colorbar": {
          "title": {
           "text": "hotel_score"
          }
         },
         "colorscale": [
          [
           0,
           "#0d0887"
          ],
          [
           0.1111111111111111,
           "#46039f"
          ],
          [
           0.2222222222222222,
           "#7201a8"
          ],
          [
           0.3333333333333333,
           "#9c179e"
          ],
          [
           0.4444444444444444,
           "#bd3786"
          ],
          [
           0.5555555555555556,
           "#d8576b"
          ],
          [
           0.6666666666666666,
           "#ed7953"
          ],
          [
           0.7777777777777778,
           "#fb9f3a"
          ],
          [
           0.8888888888888888,
           "#fdca26"
          ],
          [
           1,
           "#f0f921"
          ]
         ]
        },
        "height": 700,
        "legend": {
         "tracegroupgap": 0
        },
        "mapbox": {
         "bearing": 0,
         "center": {
          "lat": 43.257347673023254,
          "lon": 3.143411712093023
         },
         "domain": {
          "x": [
           0,
           1
          ],
          "y": [
           0,
           1
          ]
         },
         "pitch": 0,
         "style": "carto-positron",
         "zoom": 5
        },
        "showlegend": true,
        "template": {
         "data": {
          "bar": [
           {
            "error_x": {
             "color": "#2a3f5f"
            },
            "error_y": {
             "color": "#2a3f5f"
            },
            "marker": {
             "line": {
              "color": "#E5ECF6",
              "width": 0.5
             },
             "pattern": {
              "fillmode": "overlay",
              "size": 10,
              "solidity": 0.2
             }
            },
            "type": "bar"
           }
          ],
          "barpolar": [
           {
            "marker": {
             "line": {
              "color": "#E5ECF6",
              "width": 0.5
             },
             "pattern": {
              "fillmode": "overlay",
              "size": 10,
              "solidity": 0.2
             }
            },
            "type": "barpolar"
           }
          ],
          "carpet": [
           {
            "aaxis": {
             "endlinecolor": "#2a3f5f",
             "gridcolor": "white",
             "linecolor": "white",
             "minorgridcolor": "white",
             "startlinecolor": "#2a3f5f"
            },
            "baxis": {
             "endlinecolor": "#2a3f5f",
             "gridcolor": "white",
             "linecolor": "white",
             "minorgridcolor": "white",
             "startlinecolor": "#2a3f5f"
            },
            "type": "carpet"
           }
          ],
          "choropleth": [
           {
            "colorbar": {
             "outlinewidth": 0,
             "ticks": ""
            },
            "type": "choropleth"
           }
          ],
          "contour": [
           {
            "colorbar": {
             "outlinewidth": 0,
             "ticks": ""
            },
            "colorscale": [
             [
              0,
              "#0d0887"
             ],
             [
              0.1111111111111111,
              "#46039f"
             ],
             [
              0.2222222222222222,
              "#7201a8"
             ],
             [
              0.3333333333333333,
              "#9c179e"
             ],
             [
              0.4444444444444444,
              "#bd3786"
             ],
             [
              0.5555555555555556,
              "#d8576b"
             ],
             [
              0.6666666666666666,
              "#ed7953"
             ],
             [
              0.7777777777777778,
              "#fb9f3a"
             ],
             [
              0.8888888888888888,
              "#fdca26"
             ],
             [
              1,
              "#f0f921"
             ]
            ],
            "type": "contour"
           }
          ],
          "contourcarpet": [
           {
            "colorbar": {
             "outlinewidth": 0,
             "ticks": ""
            },
            "type": "contourcarpet"
           }
          ],
          "heatmap": [
           {
            "colorbar": {
             "outlinewidth": 0,
             "ticks": ""
            },
            "colorscale": [
             [
              0,
              "#0d0887"
             ],
             [
              0.1111111111111111,
              "#46039f"
             ],
             [
              0.2222222222222222,
              "#7201a8"
             ],
             [
              0.3333333333333333,
              "#9c179e"
             ],
             [
              0.4444444444444444,
              "#bd3786"
             ],
             [
              0.5555555555555556,
              "#d8576b"
             ],
             [
              0.6666666666666666,
              "#ed7953"
             ],
             [
              0.7777777777777778,
              "#fb9f3a"
             ],
             [
              0.8888888888888888,
              "#fdca26"
             ],
             [
              1,
              "#f0f921"
             ]
            ],
            "type": "heatmap"
           }
          ],
          "heatmapgl": [
           {
            "colorbar": {
             "outlinewidth": 0,
             "ticks": ""
            },
            "colorscale": [
             [
              0,
              "#0d0887"
             ],
             [
              0.1111111111111111,
              "#46039f"
             ],
             [
              0.2222222222222222,
              "#7201a8"
             ],
             [
              0.3333333333333333,
              "#9c179e"
             ],
             [
              0.4444444444444444,
              "#bd3786"
             ],
             [
              0.5555555555555556,
              "#d8576b"
             ],
             [
              0.6666666666666666,
              "#ed7953"
             ],
             [
              0.7777777777777778,
              "#fb9f3a"
             ],
             [
              0.8888888888888888,
              "#fdca26"
             ],
             [
              1,
              "#f0f921"
             ]
            ],
            "type": "heatmapgl"
           }
          ],
          "histogram": [
           {
            "marker": {
             "pattern": {
              "fillmode": "overlay",
              "size": 10,
              "solidity": 0.2
             }
            },
            "type": "histogram"
           }
          ],
          "histogram2d": [
           {
            "colorbar": {
             "outlinewidth": 0,
             "ticks": ""
            },
            "colorscale": [
             [
              0,
              "#0d0887"
             ],
             [
              0.1111111111111111,
              "#46039f"
             ],
             [
              0.2222222222222222,
              "#7201a8"
             ],
             [
              0.3333333333333333,
              "#9c179e"
             ],
             [
              0.4444444444444444,
              "#bd3786"
             ],
             [
              0.5555555555555556,
              "#d8576b"
             ],
             [
              0.6666666666666666,
              "#ed7953"
             ],
             [
              0.7777777777777778,
              "#fb9f3a"
             ],
             [
              0.8888888888888888,
              "#fdca26"
             ],
             [
              1,
              "#f0f921"
             ]
            ],
            "type": "histogram2d"
           }
          ],
          "histogram2dcontour": [
           {
            "colorbar": {
             "outlinewidth": 0,
             "ticks": ""
            },
            "colorscale": [
             [
              0,
              "#0d0887"
             ],
             [
              0.1111111111111111,
              "#46039f"
             ],
             [
              0.2222222222222222,
              "#7201a8"
             ],
             [
              0.3333333333333333,
              "#9c179e"
             ],
             [
              0.4444444444444444,
              "#bd3786"
             ],
             [
              0.5555555555555556,
              "#d8576b"
             ],
             [
              0.6666666666666666,
              "#ed7953"
             ],
             [
              0.7777777777777778,
              "#fb9f3a"
             ],
             [
              0.8888888888888888,
              "#fdca26"
             ],
             [
              1,
              "#f0f921"
             ]
            ],
            "type": "histogram2dcontour"
           }
          ],
          "mesh3d": [
           {
            "colorbar": {
             "outlinewidth": 0,
             "ticks": ""
            },
            "type": "mesh3d"
           }
          ],
          "parcoords": [
           {
            "line": {
             "colorbar": {
              "outlinewidth": 0,
              "ticks": ""
             }
            },
            "type": "parcoords"
           }
          ],
          "pie": [
           {
            "automargin": true,
            "type": "pie"
           }
          ],
          "scatter": [
           {
            "marker": {
             "colorbar": {
              "outlinewidth": 0,
              "ticks": ""
             }
            },
            "type": "scatter"
           }
          ],
          "scatter3d": [
           {
            "line": {
             "colorbar": {
              "outlinewidth": 0,
              "ticks": ""
             }
            },
            "marker": {
             "colorbar": {
              "outlinewidth": 0,
              "ticks": ""
             }
            },
            "type": "scatter3d"
           }
          ],
          "scattercarpet": [
           {
            "marker": {
             "colorbar": {
              "outlinewidth": 0,
              "ticks": ""
             }
            },
            "type": "scattercarpet"
           }
          ],
          "scattergeo": [
           {
            "marker": {
             "colorbar": {
              "outlinewidth": 0,
              "ticks": ""
             }
            },
            "type": "scattergeo"
           }
          ],
          "scattergl": [
           {
            "marker": {
             "colorbar": {
              "outlinewidth": 0,
              "ticks": ""
             }
            },
            "type": "scattergl"
           }
          ],
          "scattermapbox": [
           {
            "marker": {
             "colorbar": {
              "outlinewidth": 0,
              "ticks": ""
             }
            },
            "type": "scattermapbox"
           }
          ],
          "scatterpolar": [
           {
            "marker": {
             "colorbar": {
              "outlinewidth": 0,
              "ticks": ""
             }
            },
            "type": "scatterpolar"
           }
          ],
          "scatterpolargl": [
           {
            "marker": {
             "colorbar": {
              "outlinewidth": 0,
              "ticks": ""
             }
            },
            "type": "scatterpolargl"
           }
          ],
          "scatterternary": [
           {
            "marker": {
             "colorbar": {
              "outlinewidth": 0,
              "ticks": ""
             }
            },
            "type": "scatterternary"
           }
          ],
          "surface": [
           {
            "colorbar": {
             "outlinewidth": 0,
             "ticks": ""
            },
            "colorscale": [
             [
              0,
              "#0d0887"
             ],
             [
              0.1111111111111111,
              "#46039f"
             ],
             [
              0.2222222222222222,
              "#7201a8"
             ],
             [
              0.3333333333333333,
              "#9c179e"
             ],
             [
              0.4444444444444444,
              "#bd3786"
             ],
             [
              0.5555555555555556,
              "#d8576b"
             ],
             [
              0.6666666666666666,
              "#ed7953"
             ],
             [
              0.7777777777777778,
              "#fb9f3a"
             ],
             [
              0.8888888888888888,
              "#fdca26"
             ],
             [
              1,
              "#f0f921"
             ]
            ],
            "type": "surface"
           }
          ],
          "table": [
           {
            "cells": {
             "fill": {
              "color": "#EBF0F8"
             },
             "line": {
              "color": "white"
             }
            },
            "header": {
             "fill": {
              "color": "#C8D4E3"
             },
             "line": {
              "color": "white"
             }
            },
            "type": "table"
           }
          ]
         },
         "layout": {
          "annotationdefaults": {
           "arrowcolor": "#2a3f5f",
           "arrowhead": 0,
           "arrowwidth": 1
          },
          "autotypenumbers": "strict",
          "coloraxis": {
           "colorbar": {
            "outlinewidth": 0,
            "ticks": ""
           }
          },
          "colorscale": {
           "diverging": [
            [
             0,
             "#8e0152"
            ],
            [
             0.1,
             "#c51b7d"
            ],
            [
             0.2,
             "#de77ae"
            ],
            [
             0.3,
             "#f1b6da"
            ],
            [
             0.4,
             "#fde0ef"
            ],
            [
             0.5,
             "#f7f7f7"
            ],
            [
             0.6,
             "#e6f5d0"
            ],
            [
             0.7,
             "#b8e186"
            ],
            [
             0.8,
             "#7fbc41"
            ],
            [
             0.9,
             "#4d9221"
            ],
            [
             1,
             "#276419"
            ]
           ],
           "sequential": [
            [
             0,
             "#0d0887"
            ],
            [
             0.1111111111111111,
             "#46039f"
            ],
            [
             0.2222222222222222,
             "#7201a8"
            ],
            [
             0.3333333333333333,
             "#9c179e"
            ],
            [
             0.4444444444444444,
             "#bd3786"
            ],
            [
             0.5555555555555556,
             "#d8576b"
            ],
            [
             0.6666666666666666,
             "#ed7953"
            ],
            [
             0.7777777777777778,
             "#fb9f3a"
            ],
            [
             0.8888888888888888,
             "#fdca26"
            ],
            [
             1,
             "#f0f921"
            ]
           ],
           "sequentialminus": [
            [
             0,
             "#0d0887"
            ],
            [
             0.1111111111111111,
             "#46039f"
            ],
            [
             0.2222222222222222,
             "#7201a8"
            ],
            [
             0.3333333333333333,
             "#9c179e"
            ],
            [
             0.4444444444444444,
             "#bd3786"
            ],
            [
             0.5555555555555556,
             "#d8576b"
            ],
            [
             0.6666666666666666,
             "#ed7953"
            ],
            [
             0.7777777777777778,
             "#fb9f3a"
            ],
            [
             0.8888888888888888,
             "#fdca26"
            ],
            [
             1,
             "#f0f921"
            ]
           ]
          },
          "colorway": [
           "#636efa",
           "#EF553B",
           "#00cc96",
           "#ab63fa",
           "#FFA15A",
           "#19d3f3",
           "#FF6692",
           "#B6E880",
           "#FF97FF",
           "#FECB52"
          ],
          "font": {
           "color": "#2a3f5f"
          },
          "geo": {
           "bgcolor": "white",
           "lakecolor": "white",
           "landcolor": "#E5ECF6",
           "showlakes": true,
           "showland": true,
           "subunitcolor": "white"
          },
          "hoverlabel": {
           "align": "left"
          },
          "hovermode": "closest",
          "mapbox": {
           "style": "light"
          },
          "paper_bgcolor": "white",
          "plot_bgcolor": "#E5ECF6",
          "polar": {
           "angularaxis": {
            "gridcolor": "white",
            "linecolor": "white",
            "ticks": ""
           },
           "bgcolor": "#E5ECF6",
           "radialaxis": {
            "gridcolor": "white",
            "linecolor": "white",
            "ticks": ""
           }
          },
          "scene": {
           "xaxis": {
            "backgroundcolor": "#E5ECF6",
            "gridcolor": "white",
            "gridwidth": 2,
            "linecolor": "white",
            "showbackground": true,
            "ticks": "",
            "zerolinecolor": "white"
           },
           "yaxis": {
            "backgroundcolor": "#E5ECF6",
            "gridcolor": "white",
            "gridwidth": 2,
            "linecolor": "white",
            "showbackground": true,
            "ticks": "",
            "zerolinecolor": "white"
           },
           "zaxis": {
            "backgroundcolor": "#E5ECF6",
            "gridcolor": "white",
            "gridwidth": 2,
            "linecolor": "white",
            "showbackground": true,
            "ticks": "",
            "zerolinecolor": "white"
           }
          },
          "shapedefaults": {
           "line": {
            "color": "#2a3f5f"
           }
          },
          "ternary": {
           "aaxis": {
            "gridcolor": "white",
            "linecolor": "white",
            "ticks": ""
           },
           "baxis": {
            "gridcolor": "white",
            "linecolor": "white",
            "ticks": ""
           },
           "bgcolor": "#E5ECF6",
           "caxis": {
            "gridcolor": "white",
            "linecolor": "white",
            "ticks": ""
           }
          },
          "title": {
           "x": 0.05
          },
          "xaxis": {
           "automargin": true,
           "gridcolor": "white",
           "linecolor": "white",
           "ticks": "",
           "title": {
            "standoff": 15
           },
           "zerolinecolor": "white",
           "zerolinewidth": 2
          },
          "yaxis": {
           "automargin": true,
           "gridcolor": "white",
           "linecolor": "white",
           "ticks": "",
           "title": {
            "standoff": 15
           },
           "zerolinecolor": "white",
           "zerolinewidth": 2
          }
         }
        },
        "title": {
         "text": "Top hotels for the selected cities"
        },
        "width": 800
       }
      },
      "image/png": "[encoded data removed]"
     },
     "metadata": {},
     "output_type": "display_data"
    }
   ],
   "source": [
    "hover_show_hotel = ['location', 'hotel_score', 'score_title', 'score_expe', 'url']\n",
    "hover_data = {col:True if col in hover_show_hotel else False for col in df_top_city_hotels.columns}\n",
    "\n",
    "center_lat = df_top_city_hotels['hotel_lat'].mean()\n",
    "center_lon = df_top_city_hotels['hotel_lon'].mean()\n",
    "center = {'lat' : center_lat, 'lon' : center_lon}\n",
    "\n",
    "fig = px.scatter_mapbox(\n",
    "        df_top_city_hotels,\n",
    "        lat = \"hotel_lat\", \n",
    "        lon = \"hotel_lon\", \n",
    "        color = 'hotel_score', \n",
    "        zoom = 5, \n",
    "        mapbox_style=\"carto-positron\", \n",
    "        width=800, \n",
    "        height=700, \n",
    "        hover_name = \"hotel_name\", \n",
    "        hover_data=hover_data, title='Top hotels for the selected cities', \n",
    "        center = center\n",
    ")\n",
    "\n",
    "fig.update_layout(showlegend = True)\n",
    "fig.show()\n"
   ]
  },
  {
   "cell_type": "markdown",
   "metadata": {},
   "source": [
    "## Upload data to AWS S3 and make it available in SQL database"
   ]
  },
  {
   "cell_type": "markdown",
   "metadata": {},
   "source": [
    "### <ins>Upload to AWS S3 bucket</ins>"
   ]
  },
  {
   "cell_type": "code",
   "execution_count": 1,
   "metadata": {},
   "outputs": [],
   "source": [
    "# specific library import for AWS S3 buckets and RDS\n",
    "import boto3\n",
    "from private import *\n",
    "from sqlalchemy import create_engine\n",
    "import psycopg2"
   ]
  },
  {
   "cell_type": "code",
   "execution_count": 12,
   "metadata": {},
   "outputs": [],
   "source": [
    "# AWS credentials\n",
    "ACCESS_KEY = aws_access_key_id\n",
    "SECRET_KEY = aws_secret_access_key\n",
    "\n",
    "bucket_name = \"plan-trip-nhe\"\n",
    "key = \"hotel_city_weather_info.csv\"\n",
    "body = \"data_files/all_data.csv\"\n",
    "bucket_region = \"eu-west-2\""
   ]
  },
  {
   "cell_type": "code",
   "execution_count": 11,
   "metadata": {},
   "outputs": [],
   "source": [
    "#Boto3 session set-up\n",
    "session = boto3.Session(aws_access_key_id=ACCESS_KEY, \n",
    "                        aws_secret_access_key=SECRET_KEY)\n",
    "\n",
    "#Set-up an S3 bucket and dump csv file\n",
    "s3 = session.resource(\"s3\")\n",
    "bucket = s3.create_bucket(Bucket = bucket_name, CreateBucketConfiguration={'LocationConstraint': bucket_region})\n",
    "\n",
    "# put the desired file in the bucket\n",
    "put_object = bucket.put_object(Key = key, Body = body)"
   ]
  },
  {
   "cell_type": "markdown",
   "metadata": {},
   "source": [
    "### <ins>Make data available through AWS RDS database</ins>"
   ]
  },
  {
   "cell_type": "code",
   "execution_count": 4,
   "metadata": {},
   "outputs": [
    {
     "name": "stdout",
     "output_type": "stream",
     "text": [
      "2022-01-14 11:34:35,681 INFO sqlalchemy.engine.Engine select pg_catalog.version()\n",
      "2022-01-14 11:34:35,682 INFO sqlalchemy.engine.Engine [raw sql] {}\n",
      "2022-01-14 11:34:35,702 INFO sqlalchemy.engine.Engine select current_schema()\n",
      "2022-01-14 11:34:35,703 INFO sqlalchemy.engine.Engine [raw sql] {}\n",
      "2022-01-14 11:34:35,720 INFO sqlalchemy.engine.Engine show standard_conforming_strings\n",
      "2022-01-14 11:34:35,721 INFO sqlalchemy.engine.Engine [raw sql] {}\n",
      "2022-01-14 11:34:35,740 INFO sqlalchemy.engine.Engine select relname from pg_class c join pg_namespace n on n.oid=c.relnamespace where pg_catalog.pg_table_is_visible(c.oid) and relname=%(name)s\n",
      "2022-01-14 11:34:35,741 INFO sqlalchemy.engine.Engine [generated in 0.00067s] {'name': 'hotel_city_weather'}\n",
      "2022-01-14 11:34:35,770 INFO sqlalchemy.engine.Engine BEGIN (implicit)\n",
      "2022-01-14 11:34:35,771 INFO sqlalchemy.engine.Engine \n",
      "CREATE TABLE hotel_city_weather (\n",
      "\tcity_id BIGINT, \n",
      "\tdate_updated_c TEXT, \n",
      "\tlat FLOAT(53), \n",
      "\tlon FLOAT(53), \n",
      "\tcity_name TEXT, \n",
      "\tdate TEXT, \n",
      "\thumidity_daily BIGINT, \n",
      "\twind_sp_daily FLOAT(53), \n",
      "\tcloudiness_daily BIGINT, \n",
      "\tprob_preci FLOAT(53), \n",
      "\tuv_index_daily FLOAT(53), \n",
      "\tday_temp_daily FLOAT(53), \n",
      "\tday_temp_feels_daily FLOAT(53), \n",
      "\train_daily FLOAT(53), \n",
      "\trel_humidity FLOAT(53), \n",
      "\trel_wind_sp FLOAT(53), \n",
      "\trel_cloudiness FLOAT(53), \n",
      "\trel_uv_index FLOAT(53), \n",
      "\trel_day_temp FLOAT(53), \n",
      "\trel_day_temp_feels FLOAT(53), \n",
      "\trel_rain FLOAT(53), \n",
      "\tscore_daily FLOAT(53), \n",
      "\thumidity_avg FLOAT(53), \n",
      "\twind_sp_avg FLOAT(53), \n",
      "\tcloudiness_avg FLOAT(53), \n",
      "\tuv_index_avg FLOAT(53), \n",
      "\tday_temp_avg FLOAT(53), \n",
      "\tday_temp_feels_avg FLOAT(53), \n",
      "\train_avg FLOAT(53), \n",
      "\tscore_avg FLOAT(53), \n",
      "\tscore_total FLOAT(53), \n",
      "\tdate_updated_h TEXT, \n",
      "\thotel_name TEXT, \n",
      "\thotel_lat FLOAT(53), \n",
      "\thotel_lon FLOAT(53), \n",
      "\thotel_score FLOAT(53), \n",
      "\tscore_title TEXT, \n",
      "\tscore_expe BIGINT, \n",
      "\turl TEXT\n",
      ")\n",
      "\n",
      "\n",
      "2022-01-14 11:34:35,772 INFO sqlalchemy.engine.Engine [no key 0.00039s] {}\n",
      "2022-01-14 11:34:35,803 INFO sqlalchemy.engine.Engine COMMIT\n",
      "2022-01-14 11:34:35,825 INFO sqlalchemy.engine.Engine BEGIN (implicit)\n",
      "2022-01-14 11:34:35,953 INFO sqlalchemy.engine.Engine INSERT INTO hotel_city_weather (city_id, date_updated_c, lat, lon, city_name, date, humidity_daily, wind_sp_daily, cloudiness_daily, prob_preci, uv_index_daily, day_temp_daily, day_temp_feels_daily, rain_daily, rel_humidity, rel_wind_sp, rel_cloudiness, rel_uv_index, rel_day_temp, rel_day_temp_feels, rel_rain, score_daily, humidity_avg, wind_sp_avg, cloudiness_avg, uv_index_avg, day_temp_avg, day_temp_feels_avg, rain_avg, score_avg, score_total, date_updated_h, hotel_name, hotel_lat, hotel_lon, hotel_score, score_title, score_expe, url) VALUES (%(city_id)s, %(date_updated_c)s, %(lat)s, %(lon)s, %(city_name)s, %(date)s, %(humidity_daily)s, %(wind_sp_daily)s, %(cloudiness_daily)s, %(prob_preci)s, %(uv_index_daily)s, %(day_temp_daily)s, %(day_temp_feels_daily)s, %(rain_daily)s, %(rel_humidity)s, %(rel_wind_sp)s, %(rel_cloudiness)s, %(rel_uv_index)s, %(rel_day_temp)s, %(rel_day_temp_feels)s, %(rel_rain)s, %(score_daily)s, %(humidity_avg)s, %(wind_sp_avg)s, %(cloudiness_avg)s, %(uv_index_avg)s, %(day_temp_avg)s, %(day_temp_feels_avg)s, %(rain_avg)s, %(score_avg)s, %(score_total)s, %(date_updated_h)s, %(hotel_name)s, %(hotel_lat)s, %(hotel_lon)s, %(hotel_score)s, %(score_title)s, %(score_expe)s, %(url)s)\n",
      "2022-01-14 11:34:35,953 INFO sqlalchemy.engine.Engine [generated in 0.10365s] ({'city_id': 151486647, 'date_updated_c': '2022-01-03', 'lat': 48.6359541, 'lon': -1.511459954959514, 'city_name': 'Mont Saint Michel', 'date': '2022-01-04', 'humidity_daily': 84, 'wind_sp_daily': 9.7, 'cloudiness_daily': 100, 'prob_preci': 1.0, 'uv_index_daily': 0.47, 'day_temp_daily': 9.91, 'day_temp_feels_daily': 7.35, 'rain_daily': 6.51, 'rel_humidity': 0.9333333333333332, 'rel_wind_sp': 0.7710651828298887, 'rel_cloudiness': 1.0, 'rel_uv_index': 0.3175675675675675, 'rel_day_temp': 0.5589396503102086, 'rel_day_temp_feels': 0.4351687388987566, 'rel_rain': -0.1647267206477732, 'score_daily': 3.851347752291981, 'humidity_avg': 78.0, 'wind_sp_avg': 8.501428571428571, 'cloudiness_avg': 84.71428571428571, 'uv_index_avg': 0.7342857142857142, 'day_temp_avg': 8.502857142857142, 'day_temp_feels_avg': 5.4957142857142856, 'rain_avg': 4.465714285714286, 'score_avg': 3.468418318710845, 'score_total': 24.27892823097592, 'date_updated_h': '2022-01-03', 'hotel_name': 'La Vieille Auberge', 'hotel_lat': 48.636063, 'hotel_lon': -1.511457, 'hotel_score': 7.4, 'score_title': 'Bien\\xa0 ', 'score_expe': 1, 'url': 'https://www.booking.com/hotel/fr/la-vieille-auberge-le-mont-saint-michel.fr.html'}, {'city_id': 151486647, 'date_updated_c': '2022-01-03', 'lat': 48.6359541, 'lon': -1.511459954959514, 'city_name': 'Mont Saint Michel', 'date': '2022-01-04', 'humidity_daily': 84, 'wind_sp_daily': 9.7, 'cloudiness_daily': 100, 'prob_preci': 1.0, 'uv_index_daily': 0.47, 'day_temp_daily': 9.91, 'day_temp_feels_daily': 7.35, 'rain_daily': 6.51, 'rel_humidity': 0.9333333333333332, 'rel_wind_sp': 0.7710651828298887, 'rel_cloudiness': 1.0, 'rel_uv_index': 0.3175675675675675, 'rel_day_temp': 0.5589396503102086, 'rel_day_temp_feels': 0.4351687388987566, 'rel_rain': -0.1647267206477732, 'score_daily': 3.851347752291981, 'humidity_avg': 78.0, 'wind_sp_avg': 8.501428571428571, 'cloudiness_avg': 84.71428571428571, 'uv_index_avg': 0.7342857142857142, 'day_temp_avg': 8.502857142857142, 'day_temp_feels_avg': 5.4957142857142856, 'rain_avg': 4.465714285714286, 'score_avg': 3.468418318710845, 'score_total': 24.27892823097592, 'date_updated_h': '2022-01-03', 'hotel_name': 'Hôtel Vert', 'hotel_lat': 48.61470049, 'hotel_lon': -1.5096169700000002, 'hotel_score': 8.1, 'score_title': 'Très bien ', 'score_expe': 3, 'url': 'https://www.booking.com/hotel/fr/vert.fr.html'}, {'city_id': 151486647, 'date_updated_c': '2022-01-03', 'lat': 48.6359541, 'lon': -1.511459954959514, 'city_name': 'Mont Saint Michel', 'date': '2022-01-04', 'humidity_daily': 84, 'wind_sp_daily': 9.7, 'cloudiness_daily': 100, 'prob_preci': 1.0, 'uv_index_daily': 0.47, 'day_temp_daily': 9.91, 'day_temp_feels_daily': 7.35, 'rain_daily': 6.51, 'rel_humidity': 0.9333333333333332, 'rel_wind_sp': 0.7710651828298887, 'rel_cloudiness': 1.0, 'rel_uv_index': 0.3175675675675675, 'rel_day_temp': 0.5589396503102086, 'rel_day_temp_feels': 0.4351687388987566, 'rel_rain': -0.1647267206477732, 'score_daily': 3.851347752291981, 'humidity_avg': 78.0, 'wind_sp_avg': 8.501428571428571, 'cloudiness_avg': 84.71428571428571, 'uv_index_avg': 0.7342857142857142, 'day_temp_avg': 8.502857142857142, 'day_temp_feels_avg': 5.4957142857142856, 'rain_avg': 4.465714285714286, 'score_avg': 3.468418318710845, 'score_total': 24.27892823097592, 'date_updated_h': '2022-01-03', 'hotel_name': 'Hôtel La Croix Blanche', 'hotel_lat': 48.63573406, 'hotel_lon': -1.50986105, 'hotel_score': 7.6, 'score_title': 'Bien\\xa0 ', 'score_expe': 379, 'url': 'https://www.booking.com/hotel/fr/ha-el-la-croix-blanche.fr.html'}, {'city_id': 151486647, 'date_updated_c': '2022-01-03', 'lat': 48.6359541, 'lon': -1.511459954959514, 'city_name': 'Mont Saint Michel', 'date': '2022-01-04', 'humidity_daily': 84, 'wind_sp_daily': 9.7, 'cloudiness_daily': 100, 'prob_preci': 1.0, 'uv_index_daily': 0.47, 'day_temp_daily': 9.91, 'day_temp_feels_daily': 7.35, 'rain_daily': 6.51, 'rel_humidity': 0.9333333333333332, 'rel_wind_sp': 0.7710651828298887, 'rel_cloudiness': 1.0, 'rel_uv_index': 0.3175675675675675, 'rel_day_temp': 0.5589396503102086, 'rel_day_temp_feels': 0.4351687388987566, 'rel_rain': -0.1647267206477732, 'score_daily': 3.851347752291981, 'humidity_avg': 78.0, 'wind_sp_avg': 8.501428571428571, 'cloudiness_avg': 84.71428571428571, 'uv_index_avg': 0.7342857142857142, 'day_temp_avg': 8.502857142857142, 'day_temp_feels_avg': 5.4957142857142856, 'rain_avg': 4.465714285714286, 'score_avg': 3.468418318710845, 'score_total': 24.27892823097592, 'date_updated_h': '2022-01-03', 'hotel_name': 'Le Relais Du Roy', 'hotel_lat': 48.6162627, 'hotel_lon': -1.51090577, 'hotel_score': 8.1, 'score_title': 'Très bien ', 'score_expe': 1, 'url': 'https://www.booking.com/hotel/fr/le-relais-du-roy.fr.html'}, {'city_id': 151486647, 'date_updated_c': '2022-01-03', 'lat': 48.6359541, 'lon': -1.511459954959514, 'city_name': 'Mont Saint Michel', 'date': '2022-01-04', 'humidity_daily': 84, 'wind_sp_daily': 9.7, 'cloudiness_daily': 100, 'prob_preci': 1.0, 'uv_index_daily': 0.47, 'day_temp_daily': 9.91, 'day_temp_feels_daily': 7.35, 'rain_daily': 6.51, 'rel_humidity': 0.9333333333333332, 'rel_wind_sp': 0.7710651828298887, 'rel_cloudiness': 1.0, 'rel_uv_index': 0.3175675675675675, 'rel_day_temp': 0.5589396503102086, 'rel_day_temp_feels': 0.4351687388987566, 'rel_rain': -0.1647267206477732, 'score_daily': 3.851347752291981, 'humidity_avg': 78.0, 'wind_sp_avg': 8.501428571428571, 'cloudiness_avg': 84.71428571428571, 'uv_index_avg': 0.7342857142857142, 'day_temp_avg': 8.502857142857142, 'day_temp_feels_avg': 5.4957142857142856, 'rain_avg': 4.465714285714286, 'score_avg': 3.468418318710845, 'score_total': 24.27892823097592, 'date_updated_h': '2022-01-03', 'hotel_name': 'Le Saint Aubert', 'hotel_lat': 48.61293783, 'hotel_lon': -1.51010513, 'hotel_score': 7.3, 'score_title': 'Bien\\xa0 ', 'score_expe': 1, 'url': 'https://www.booking.com/hotel/fr/hotel-saint-aubert.fr.html'}, {'city_id': 151486647, 'date_updated_c': '2022-01-03', 'lat': 48.6359541, 'lon': -1.511459954959514, 'city_name': 'Mont Saint Michel', 'date': '2022-01-04', 'humidity_daily': 84, 'wind_sp_daily': 9.7, 'cloudiness_daily': 100, 'prob_preci': 1.0, 'uv_index_daily': 0.47, 'day_temp_daily': 9.91, 'day_temp_feels_daily': 7.35, 'rain_daily': 6.51, 'rel_humidity': 0.9333333333333332, 'rel_wind_sp': 0.7710651828298887, 'rel_cloudiness': 1.0, 'rel_uv_index': 0.3175675675675675, 'rel_day_temp': 0.5589396503102086, 'rel_day_temp_feels': 0.4351687388987566, 'rel_rain': -0.1647267206477732, 'score_daily': 3.851347752291981, 'humidity_avg': 78.0, 'wind_sp_avg': 8.501428571428571, 'cloudiness_avg': 84.71428571428571, 'uv_index_avg': 0.7342857142857142, 'day_temp_avg': 8.502857142857142, 'day_temp_feels_avg': 5.4957142857142856, 'rain_avg': 4.465714285714286, 'score_avg': 3.468418318710845, 'score_total': 24.27892823097592, 'date_updated_h': '2022-01-03', 'hotel_name': 'Hotel Gabriel', 'hotel_lat': 48.61538141, 'hotel_lon': -1.51070997, 'hotel_score': 8.1, 'score_title': 'Très bien ', 'score_expe': 2, 'url': 'https://www.booking.com/hotel/fr/hotel-gabriel.fr.html'}, {'city_id': 151486647, 'date_updated_c': '2022-01-03', 'lat': 48.6359541, 'lon': -1.511459954959514, 'city_name': 'Mont Saint Michel', 'date': '2022-01-04', 'humidity_daily': 84, 'wind_sp_daily': 9.7, 'cloudiness_daily': 100, 'prob_preci': 1.0, 'uv_index_daily': 0.47, 'day_temp_daily': 9.91, 'day_temp_feels_daily': 7.35, 'rain_daily': 6.51, 'rel_humidity': 0.9333333333333332, 'rel_wind_sp': 0.7710651828298887, 'rel_cloudiness': 1.0, 'rel_uv_index': 0.3175675675675675, 'rel_day_temp': 0.5589396503102086, 'rel_day_temp_feels': 0.4351687388987566, 'rel_rain': -0.1647267206477732, 'score_daily': 3.851347752291981, 'humidity_avg': 78.0, 'wind_sp_avg': 8.501428571428571, 'cloudiness_avg': 84.71428571428571, 'uv_index_avg': 0.7342857142857142, 'day_temp_avg': 8.502857142857142, 'day_temp_feels_avg': 5.4957142857142856, 'rain_avg': 4.465714285714286, 'score_avg': 3.468418318710845, 'score_total': 24.27892823097592, 'date_updated_h': '2022-01-03', 'hotel_name': 'Auberge Saint Pierre', 'hotel_lat': 48.63568798, 'hotel_lon': -1.50988251, 'hotel_score': 8.1, 'score_title': 'Très bien ', 'score_expe': 790, 'url': 'https://www.booking.com/hotel/fr/auberge-saint-pierre.fr.html'}, {'city_id': 151486647, 'date_updated_c': '2022-01-03', 'lat': 48.6359541, 'lon': -1.511459954959514, 'city_name': 'Mont Saint Michel', 'date': '2022-01-04', 'humidity_daily': 84, 'wind_sp_daily': 9.7, 'cloudiness_daily': 100, 'prob_preci': 1.0, 'uv_index_daily': 0.47, 'day_temp_daily': 9.91, 'day_temp_feels_daily': 7.35, 'rain_daily': 6.51, 'rel_humidity': 0.9333333333333332, 'rel_wind_sp': 0.7710651828298887, 'rel_cloudiness': 1.0, 'rel_uv_index': 0.3175675675675675, 'rel_day_temp': 0.5589396503102086, 'rel_day_temp_feels': 0.4351687388987566, 'rel_rain': -0.1647267206477732, 'score_daily': 3.851347752291981, 'humidity_avg': 78.0, 'wind_sp_avg': 8.501428571428571, 'cloudiness_avg': 84.71428571428571, 'uv_index_avg': 0.7342857142857142, 'day_temp_avg': 8.502857142857142, 'day_temp_feels_avg': 5.4957142857142856, 'rain_avg': 4.465714285714286, 'score_avg': 3.468418318710845, 'score_total': 24.27892823097592, 'date_updated_h': '2022-01-03', 'hotel_name': 'Hotel De La Digue', 'hotel_lat': 48.61688155, 'hotel_lon': -1.5109178399999998, 'hotel_score': 7.1, 'score_title': 'Bien\\xa0 ', 'score_expe': 2, 'url': 'https://www.booking.com/hotel/fr/de-la-digue.fr.html'}  ... displaying 10 of 9807 total bound parameter sets ...  {'city_id': 123543, 'date_updated_c': '2022-01-03', 'lat': 46.1591126, 'lon': -1.1520434, 'city_name': 'La Rochelle', 'date': '2022-01-10', 'humidity_daily': 91, 'wind_sp_daily': 10.75, 'cloudiness_daily': 100, 'prob_preci': 0.44, 'uv_index_daily': 1.0, 'day_temp_daily': 11.73, 'day_temp_feels_daily': 11.33, 'rain_daily': 0.51, 'rel_humidity': 0.91, 'rel_wind_sp': 0.7980697847067557, 'rel_cloudiness': 1.0, 'rel_uv_index': 0.5, 'rel_day_temp': 0.7419354838709677, 'rel_day_temp_feels': 0.7468688200395518, 'rel_rain': -0.0122555980338612, 'score_daily': 4.684618490583414, 'humidity_avg': 78.42857142857143, 'wind_sp_avg': 10.862857142857145, 'cloudiness_avg': 71.0, 'uv_index_avg': 0.86, 'day_temp_avg': 9.09, 'day_temp_feels_avg': 7.390000000000001, 'rain_avg': 3.768571428571428, 'score_avg': 3.94605618898198, 'score_total': 27.62239332287386, 'date_updated_h': '2022-01-03', 'hotel_name': 'Hôtel Le Rochelois', 'hotel_lat': 46.15418175, 'hotel_lon': -1.18243652, 'hotel_score': 8.0, 'score_title': 'Très bien ', 'score_expe': 2, 'url': 'https://www.booking.com/hotel/fr/le-rochelois.fr.html'}, {'city_id': 123543, 'date_updated_c': '2022-01-03', 'lat': 46.1591126, 'lon': -1.1520434, 'city_name': 'La Rochelle', 'date': '2022-01-10', 'humidity_daily': 91, 'wind_sp_daily': 10.75, 'cloudiness_daily': 100, 'prob_preci': 0.44, 'uv_index_daily': 1.0, 'day_temp_daily': 11.73, 'day_temp_feels_daily': 11.33, 'rain_daily': 0.51, 'rel_humidity': 0.91, 'rel_wind_sp': 0.7980697847067557, 'rel_cloudiness': 1.0, 'rel_uv_index': 0.5, 'rel_day_temp': 0.7419354838709677, 'rel_day_temp_feels': 0.7468688200395518, 'rel_rain': -0.0122555980338612, 'score_daily': 4.684618490583414, 'humidity_avg': 78.42857142857143, 'wind_sp_avg': 10.862857142857145, 'cloudiness_avg': 71.0, 'uv_index_avg': 0.86, 'day_temp_avg': 9.09, 'day_temp_feels_avg': 7.390000000000001, 'rain_avg': 3.768571428571428, 'score_avg': 3.94605618898198, 'score_total': 27.62239332287386, 'date_updated_h': '2022-01-03', 'hotel_name': 'Hotel De Paris', 'hotel_lat': 46.16196911, 'hotel_lon': -1.1511746, 'hotel_score': 7.8, 'score_title': 'Bien\\xa0 ', 'score_expe': 665, 'url': 'https://www.booking.com/hotel/fr/de-paris-la-rochelle.fr.html'})\n",
      "2022-01-14 11:34:38,846 INFO sqlalchemy.engine.Engine COMMIT\n"
     ]
    }
   ],
   "source": [
    "#Creates the engine to establish connection between the postgres db and python\n",
    "engine = create_engine(f'postgresql+psycopg2://{login}:{kw}@{endpoint}:5432/postgres', echo=True)\n",
    "df_all = pd.read_csv(\"data_files/all_data.csv\")\n",
    "df_all.to_sql('hotel_city_weather', engine, if_exists = 'replace', index= False)\n"
   ]
  },
  {
   "cell_type": "code",
   "execution_count": null,
   "metadata": {},
   "outputs": [],
   "source": []
  }
 ],
 "metadata": {
  "kernelspec": {
   "display_name": "Python 3 (ipykernel)",
   "language": "python",
   "name": "python3"
  },
  "language_info": {
   "codemirror_mode": {
    "name": "ipython",
    "version": 3
   },
   "file_extension": ".py",
   "mimetype": "text/x-python",
   "name": "python",
   "nbconvert_exporter": "python",
   "pygments_lexer": "ipython3",
   "version": "3.10.1"
  }
 },
 "nbformat": 4,
 "nbformat_minor": 4
}
